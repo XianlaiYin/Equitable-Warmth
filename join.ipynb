{
 "cells": [
  {
   "cell_type": "code",
   "execution_count": 1,
   "metadata": {},
   "outputs": [
    {
     "name": "stderr",
     "output_type": "stream",
     "text": [
      "C:\\Users\\xianl\\AppData\\Local\\Temp\\ipykernel_35776\\4191213986.py:14: UserWarning: Column names longer than 10 characters will be truncated when saved to ESRI Shapefile.\n",
      "  merged.to_file('WB_Analysis.shp')\n"
     ]
    }
   ],
   "source": [
    "import pandas as pd\n",
    "import geopandas as gpd\n",
    "\n",
    "# 读取Excel文件\n",
    "df = pd.read_excel('WBD_Analysis.xls', sheet_name='Database_LSOA')\n",
    "\n",
    "# 读取shp文件\n",
    "gdf = gpd.read_file(r\"D:\\UCL\\backup\\equitable_warmth_raw_data\\lsoa_boundaries.shp\")\n",
    "\n",
    "# 通过LSOA_Code和CODE列来关联这两个数据集\n",
    "merged = gdf.merge(df, left_on='CODE', right_on='LSOA_Code')\n",
    "\n",
    "# 导出结果为新的shp文件\n",
    "merged.to_file('WB_Analysis.shp')"
   ]
  }
 ],
 "metadata": {
  "kernelspec": {
   "display_name": "Python 3",
   "language": "python",
   "name": "python3"
  },
  "language_info": {
   "codemirror_mode": {
    "name": "ipython",
    "version": 3
   },
   "file_extension": ".py",
   "mimetype": "text/x-python",
   "name": "python",
   "nbconvert_exporter": "python",
   "pygments_lexer": "ipython3",
   "version": "3.11.8"
  }
 },
 "nbformat": 4,
 "nbformat_minor": 2
}
